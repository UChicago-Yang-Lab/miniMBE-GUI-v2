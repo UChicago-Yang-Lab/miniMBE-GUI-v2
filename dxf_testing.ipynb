{
 "cells": [
  {
   "cell_type": "markdown",
   "id": "f680b6cd",
   "metadata": {},
   "source": [
    "# DXF Testing\n",
    "\n",
    "Firstly I wanted to use matplot lib in order to ensure that the points which were coming from the dxf_loader.py's load_dxf method were actually accurate\n"
   ]
  },
  {
   "cell_type": "code",
   "execution_count": 29,
   "id": "271037e2",
   "metadata": {},
   "outputs": [],
   "source": [
    "import matplotlib.pyplot as plt\n",
    "import dxf_loader\n",
    "import numpy as np\n"
   ]
  },
  {
   "cell_type": "code",
   "execution_count": 30,
   "id": "4cffb97c",
   "metadata": {},
   "outputs": [
    {
     "name": "stdout",
     "output_type": "stream",
     "text": [
      "is my debugging printing?\n",
      "CIRCLE(#10000057)\n",
      "\n",
      "circ appended\n",
      "LINE(#1000005B)\n",
      "\n",
      "(0.0, 0.0, 1.0)\n",
      "LINE(#1000005F)\n",
      "\n",
      "(0.0, 0.0, 1.0)\n",
      "LINE(#10000063)\n",
      "\n",
      "(0.0, 0.0, 1.0)\n",
      "LINE(#10000067)\n",
      "\n",
      "(0.0, 0.0, 1.0)\n",
      "5\n"
     ]
    }
   ],
   "source": [
    "#loading one of the sample dxf files with the aforementioned method\n",
    "shape_points =  dxf_loader.load_dxf('samples/dxf/Square-Circle.dxf')\n",
    "#Checking to make sure there's 5 seperate entities as intended\n",
    "print(len(shape_points))\n"
   ]
  },
  {
   "cell_type": "code",
   "execution_count": 31,
   "id": "71845c19",
   "metadata": {},
   "outputs": [
    {
     "name": "stdout",
     "output_type": "stream",
     "text": [
      "[array([[-1.75,  1.75],\n",
      "       [-1.75, -1.75]]), array([[-1.75,  1.75],\n",
      "       [ 1.75,  1.75]]), array([[ 1.75,  1.75],\n",
      "       [-1.75,  1.75]]), array([[-1.75, -1.75],\n",
      "       [-1.75,  1.75]])]\n"
     ]
    }
   ],
   "source": [
    "print(shape_points[1:5])"
   ]
  },
  {
   "cell_type": "code",
   "execution_count": 32,
   "id": "23befb25",
   "metadata": {},
   "outputs": [
    {
     "data": {
      "text/plain": [
       "\"for shape in shape_points:\\n\\tplt.plot(shape[:, 0], shape[:, 1])\\n\\tprint(shape.shape)\\nplt.axis('equal')\\nplt.show()\""
      ]
     },
     "execution_count": 32,
     "metadata": {},
     "output_type": "execute_result"
    }
   ],
   "source": [
    "'''for shape in shape_points:\n",
    "\tplt.plot(shape[:, 0], shape[:, 1])\n",
    "\tprint(shape.shape)\n",
    "plt.axis('equal')\n",
    "plt.show()'''"
   ]
  },
  {
   "cell_type": "code",
   "execution_count": 33,
   "id": "7bf40511",
   "metadata": {},
   "outputs": [
    {
     "data": {
      "image/png": "[encoded data removed]",
      "text/plain": [
       "<Figure size 640x480 with 1 Axes>"
      ]
     },
     "metadata": {},
     "output_type": "display_data"
    }
   ],
   "source": [
    "for shape in shape_points:\n",
    "\tfor point in shape:\n",
    "\t\tif type(point[1]) != np.float64:\n",
    "\t\t\tprint('removed')\n",
    "\t\t\tcontinue\n",
    "\t\t#print(point[1])\n",
    "\t\t#print(type(point[1]))\n",
    "\n",
    "\t\tplt.plot(point[0], point[1],'o-')\n",
    "\t#print(shape.shape)\n",
    "plt.axis('equal')\n",
    "plt.show()"
   ]
  },
  {
   "cell_type": "markdown",
   "id": "da265907",
   "metadata": {},
   "source": [
    "Ok so I recently had a discussion with Patrick about the dxf loading and he mentioned the fact that this part of the code was actually already mostly functional "
   ]
  },
  {
   "cell_type": "markdown",
   "id": "336b6bc4",
   "metadata": {},
   "source": [
    "### Goals for the project as of now 7/16/25\n",
    "- Be aple to plot a trace of which paths the manipulator has already moved or where it's going. \"Mark Trace\" button so it's marking where it's tracing in real-time\n",
    "- Animation of plot\n",
    "- Panning Feature(which might potentially involve replacing Matplotlib with a more GUI-friendly solution)\n",
    "- Numbered Points\n",
    "\n",
    "Before I write anything I think it's important to understnad how this part of the original Mini-MBE library actually worked:\n",
    "\n",
    "\n",
    "Also, after a bit of trouble-shooting(look at the graph above), I've come to realize that for some reason while loading the dxf there are two specific lines which aren't even correctly being loaded in a regular square and I'm not exactly sure why. I think I'm going to add another dxf with like a decagon or something and see what happens there.\n",
    "- For processing lines it breaks each of the lines into smaller parts with each one having a lenght equal to the resolution and a Similar thing for CIRCLE points\n",
    "- Gets scale or just forces millimeters\n"
   ]
  },
  {
   "cell_type": "code",
   "execution_count": 34,
   "id": "866a5cc9",
   "metadata": {},
   "outputs": [
    {
     "name": "stdout",
     "output_type": "stream",
     "text": [
      "is my debugging printing?\n",
      "LINE(#10000057)\n",
      "\n",
      "(0.0, 0.0, 1.0)\n",
      "LINE(#1000005B)\n",
      "\n",
      "(0.0, 0.0, 1.0)\n",
      "LINE(#1000005F)\n",
      "\n",
      "(0.0, 0.0, 1.0)\n",
      "LINE(#10000063)\n",
      "\n",
      "(0.0, 0.0, 1.0)\n",
      "LINE(#10000067)\n",
      "\n",
      "(0.0, 0.0, 1.0)\n",
      "LINE(#1000006B)\n",
      "\n",
      "(0.0, 0.0, 1.0)\n",
      "LINE(#1000006F)\n",
      "\n",
      "(0.0, 0.0, 1.0)\n",
      "LINE(#10000073)\n",
      "\n",
      "(0.0, 0.0, 1.0)\n",
      "LINE(#10000077)\n",
      "\n",
      "(0.0, 0.0, 1.0)\n",
      "LINE(#1000007B)\n",
      "\n",
      "(0.0, 0.0, 1.0)\n"
     ]
    }
   ],
   "source": [
    "dec_dxf = dxf_loader.load_dxf('samples/dxf/decagon_dxf_test.dxf')\n",
    "\n"
   ]
  },
  {
   "cell_type": "code",
   "execution_count": 35,
   "id": "f6b27679",
   "metadata": {},
   "outputs": [
    {
     "name": "stdout",
     "output_type": "stream",
     "text": [
      "20\n"
     ]
    },
    {
     "data": {
      "image/png": "[encoded data removed]",
      "text/plain": [
       "<Figure size 640x480 with 1 Axes>"
      ]
     },
     "metadata": {},
     "output_type": "display_data"
    }
   ],
   "source": [
    "coun = 0\n",
    "for shape in dec_dxf:\n",
    "\tfor point in shape:\n",
    "\t\t#if type(point[1]) != np.float64:\n",
    "\t\t\t#print('removed')\n",
    "\t\t\t#continue\n",
    "\t\t#print(point[1])\n",
    "\t\t#print(type(point[1]))\n",
    "\t\tcoun+=1\n",
    "\t\t\n",
    "\t\tplt.plot(round(point[0],3), round(point[1],3),'o-')\n",
    "\t#print(shape.shape)\n",
    "print(coun)\n",
    "plt.axis('equal')\n",
    "plt.show()"
   ]
  },
  {
   "cell_type": "code",
   "execution_count": 36,
   "id": "8ebb73ef",
   "metadata": {},
   "outputs": [
    {
     "name": "stdout",
     "output_type": "stream",
     "text": [
      "(2, 2)\n",
      "(2, 2)\n",
      "(2, 2)\n",
      "(2, 2)\n",
      "(2, 2)\n",
      "(2, 2)\n",
      "(2, 2)\n",
      "(2, 2)\n",
      "(2, 2)\n",
      "(2, 2)\n"
     ]
    },
    {
     "data": {
      "image/png": "[encoded data removed]",
      "text/plain": [
       "<Figure size 640x480 with 1 Axes>"
      ]
     },
     "metadata": {},
     "output_type": "display_data"
    }
   ],
   "source": [
    "for shape in dec_dxf:\n",
    "\tplt.plot(shape[:, 0], shape[:, 1])\n",
    "\tprint(shape.shape)\n",
    "plt.axis('equal')\n",
    "plt.show()"
   ]
  },
  {
   "cell_type": "code",
   "execution_count": 37,
   "id": "f16f9bac",
   "metadata": {},
   "outputs": [
    {
     "name": "stdout",
     "output_type": "stream",
     "text": [
      "is my debugging printing?\n",
      "LINE(#10000057)\n",
      "\n",
      "(0.0, 0.0, 1.0)\n",
      "LINE(#1000005B)\n",
      "\n",
      "(0.0, 0.0, 1.0)\n",
      "LINE(#1000005F)\n",
      "\n",
      "(0.0, 0.0, 1.0)\n",
      "LINE(#10000063)\n",
      "\n",
      "(0.0, 0.0, 1.0)\n",
      "LINE(#10000067)\n",
      "\n",
      "(0.0, 0.0, 1.0)\n",
      "LINE(#1000006B)\n",
      "\n",
      "(0.0, 0.0, 1.0)\n",
      "LINE(#1000006F)\n",
      "\n",
      "(0.0, 0.0, 1.0)\n",
      "LINE(#10000073)\n",
      "\n",
      "(0.0, 0.0, 1.0)\n",
      "LINE(#10000077)\n",
      "\n",
      "(0.0, 0.0, 1.0)\n",
      "LINE(#1000007B)\n",
      "\n",
      "(0.0, 0.0, 1.0)\n"
     ]
    }
   ],
   "source": [
    "dec_dxf_2 = dxf_loader.load_dxf('samples/dxf/decagon_dxf_2.dxf')\n"
   ]
  },
  {
   "cell_type": "markdown",
   "id": "01809c66",
   "metadata": {},
   "source": [
    "So the next main issue that I believe this could be coming from is ezdxf's multiple different coordinate systems. It seems most points for things like this are returned as OCS coordinates instead of say WCS or UCS coordinates which could account for this slightly tilted looking nature of the image. I'm going to try graphing this but after converting all of these "
   ]
  },
  {
   "cell_type": "code",
   "execution_count": 38,
   "id": "d66f4676",
   "metadata": {},
   "outputs": [
    {
     "name": "stdout",
     "output_type": "stream",
     "text": [
      "[1.6643489 1.6643489]\n",
      "[-0.54077974  0.54077974]\n",
      "[1.02862419 1.6643489 ]\n",
      "[-1.41577974 -0.54077974]\n",
      "[-4.00000000e-16  1.02862419e+00]\n",
      "[-1.75       -1.41577974]\n",
      "[ 5.00000000e-16 -1.02862419e+00]\n",
      "[1.75       1.41577974]\n",
      "[1.02862419 0.        ]\n",
      "[1.41577974 1.75      ]\n",
      "[1.6643489  1.02862419]\n",
      "[0.54077974 1.41577974]\n",
      "[-1.02862419 -1.6643489 ]\n",
      "[1.41577974 0.54077974]\n",
      "[-1.6643489 -1.6643489]\n",
      "[ 0.54077974 -0.54077974]\n",
      "[-1.6643489  -1.02862419]\n",
      "[-0.54077974 -1.41577974]\n",
      "[-1.02862419e+00 -2.00000000e-16]\n",
      "[-1.41577974 -1.75      ]\n"
     ]
    },
    {
     "data": {
      "image/png": "[encoded data removed]",
      "text/plain": [
       "<Figure size 640x480 with 1 Axes>"
      ]
     },
     "metadata": {},
     "output_type": "display_data"
    }
   ],
   "source": [
    "import ezdxf.math\n",
    "for shape in dec_dxf_2:\n",
    "\tfor point in shape:\n",
    "\t\tprint(point)\n",
    "\t\tplt.plot(point[0], point[1],'o-')\n",
    "plt.axis('equal')\n",
    "plt.show()"
   ]
  },
  {
   "cell_type": "code",
   "execution_count": 39,
   "id": "48f90fa6",
   "metadata": {},
   "outputs": [
    {
     "data": {
      "application/vnd.plotly.v1+json": {
       "config": {
        "linkText": "Export to plot.ly",
        "plotlyServerURL": "https://plot.ly",
        "showLink": false
       },
       "data": [
        {
         "mode": "lines+markers",
         "type": "scatter",
         "x": [
          1.664348903516519,
          1.664348903516519
         ],
         "y": [
          -0.5407797401561584,
          0.5407797401561578
         ]
        },
        {
         "mode": "lines+markers",
         "type": "scatter",
         "x": [
          1.028624191511828,
          1.664348903516519
         ],
         "y": [
          -1.415779740156158,
          -0.5407797401561579
         ]
        },
        {
         "mode": "lines+markers",
         "type": "scatter",
         "x": [
          -4e-16,
          1.028624191511828
         ],
         "y": [
          -1.75,
          -1.415779740156158
         ]
        },
        {
         "mode": "lines+markers",
         "type": "scatter",
         "x": [
          5e-16,
          -1.028624191511828
         ],
         "y": [
          1.75,
          1.415779740156158
         ]
        },
        {
         "mode": "lines+markers",
         "type": "scatter",
         "x": [
          1.028624191511828,
          0
         ],
         "y": [
          1.415779740156158,
          1.75
         ]
        },
        {
         "mode": "lines+markers",
         "type": "scatter",
         "x": [
          1.664348903516519,
          1.028624191511828
         ],
         "y": [
          0.5407797401561583,
          1.415779740156158
         ]
        },
        {
         "mode": "lines+markers",
         "type": "scatter",
         "x": [
          -1.028624191511828,
          -1.664348903516519
         ],
         "y": [
          1.415779740156158,
          0.5407797401561583
         ]
        },
        {
         "mode": "lines+markers",
         "type": "scatter",
         "x": [
          -1.664348903516519,
          -1.664348903516519
         ],
         "y": [
          0.5407797401561583,
          -0.5407797401561579
         ]
        },
        {
         "mode": "lines+markers",
         "type": "scatter",
         "x": [
          -1.664348903516519,
          -1.028624191511828
         ],
         "y": [
          -0.5407797401561578,
          -1.415779740156158
         ]
        },
        {
         "mode": "lines+markers",
         "type": "scatter",
         "x": [
          -1.028624191511828,
          -2e-16
         ],
         "y": [
          -1.415779740156158,
          -1.75
         ]
        }
       ],
       "layout": {
        "showlegend": false,
        "template": {
         "data": {
          "bar": [
           {
            "error_x": {
             "color": "#2a3f5f"
            },
            "error_y": {
             "color": "#2a3f5f"
            },
            "marker": {
             "line": {
              "color": "#E5ECF6",
              "width": 0.5
             },
             "pattern": {
              "fillmode": "overlay",
              "size": 10,
              "solidity": 0.2
             }
            },
            "type": "bar"
           }
          ],
          "barpolar": [
           {
            "marker": {
             "line": {
              "color": "#E5ECF6",
              "width": 0.5
             },
             "pattern": {
              "fillmode": "overlay",
              "size": 10,
              "solidity": 0.2
             }
            },
            "type": "barpolar"
           }
          ],
          "carpet": [
           {
            "aaxis": {
             "endlinecolor": "#2a3f5f",
             "gridcolor": "white",
             "linecolor": "white",
             "minorgridcolor": "white",
             "startlinecolor": "#2a3f5f"
            },
            "baxis": {
             "endlinecolor": "#2a3f5f",
             "gridcolor": "white",
             "linecolor": "white",
             "minorgridcolor": "white",
             "startlinecolor": "#2a3f5f"
            },
            "type": "carpet"
           }
          ],
          "choropleth": [
           {
            "colorbar": {
             "outlinewidth": 0,
             "ticks": ""
            },
            "type": "choropleth"
           }
          ],
          "contour": [
           {
            "colorbar": {
             "outlinewidth": 0,
             "ticks": ""
            },
            "colorscale": [
             [
              0,
              "#0d0887"
             ],
             [
              0.1111111111111111,
              "#46039f"
             ],
             [
              0.2222222222222222,
              "#7201a8"
             ],
             [
              0.3333333333333333,
              "#9c179e"
             ],
             [
              0.4444444444444444,
              "#bd3786"
             ],
             [
              0.5555555555555556,
              "#d8576b"
             ],
             [
              0.6666666666666666,
              "#ed7953"
             ],
             [
              0.7777777777777778,
              "#fb9f3a"
             ],
             [
              0.8888888888888888,
              "#fdca26"
             ],
             [
              1,
              "#f0f921"
             ]
            ],
            "type": "contour"
           }
          ],
          "contourcarpet": [
           {
            "colorbar": {
             "outlinewidth": 0,
             "ticks": ""
            },
            "type": "contourcarpet"
           }
          ],
          "heatmap": [
           {
            "colorbar": {
             "outlinewidth": 0,
             "ticks": ""
            },
            "colorscale": [
             [
              0,
              "#0d0887"
             ],
             [
              0.1111111111111111,
              "#46039f"
             ],
             [
              0.2222222222222222,
              "#7201a8"
             ],
             [
              0.3333333333333333,
              "#9c179e"
             ],
             [
              0.4444444444444444,
              "#bd3786"
             ],
             [
              0.5555555555555556,
              "#d8576b"
             ],
             [
              0.6666666666666666,
              "#ed7953"
             ],
             [
              0.7777777777777778,
              "#fb9f3a"
             ],
             [
              0.8888888888888888,
              "#fdca26"
             ],
             [
              1,
              "#f0f921"
             ]
            ],
            "type": "heatmap"
           }
          ],
          "heatmapgl": [
           {
            "colorbar": {
             "outlinewidth": 0,
             "ticks": ""
            },
            "colorscale": [
             [
              0,
              "#0d0887"
             ],
             [
              0.1111111111111111,
              "#46039f"
             ],
             [
              0.2222222222222222,
              "#7201a8"
             ],
             [
              0.3333333333333333,
              "#9c179e"
             ],
             [
              0.4444444444444444,
              "#bd3786"
             ],
             [
              0.5555555555555556,
              "#d8576b"
             ],
             [
              0.6666666666666666,
              "#ed7953"
             ],
             [
              0.7777777777777778,
              "#fb9f3a"
             ],
             [
              0.8888888888888888,
              "#fdca26"
             ],
             [
              1,
              "#f0f921"
             ]
            ],
            "type": "heatmapgl"
           }
          ],
          "histogram": [
           {
            "marker": {
             "pattern": {
              "fillmode": "overlay",
              "size": 10,
              "solidity": 0.2
             }
            },
            "type": "histogram"
           }
          ],
          "histogram2d": [
           {
            "colorbar": {
             "outlinewidth": 0,
             "ticks": ""
            },
            "colorscale": [
             [
              0,
              "#0d0887"
             ],
             [
              0.1111111111111111,
              "#46039f"
             ],
             [
              0.2222222222222222,
              "#7201a8"
             ],
             [
              0.3333333333333333,
              "#9c179e"
             ],
             [
              0.4444444444444444,
              "#bd3786"
             ],
             [
              0.5555555555555556,
              "#d8576b"
             ],
             [
              0.6666666666666666,
              "#ed7953"
             ],
             [
              0.7777777777777778,
              "#fb9f3a"
             ],
             [
              0.8888888888888888,
              "#fdca26"
             ],
             [
              1,
              "#f0f921"
             ]
            ],
            "type": "histogram2d"
           }
          ],
          "histogram2dcontour": [
           {
            "colorbar": {
             "outlinewidth": 0,
             "ticks": ""
            },
            "colorscale": [
             [
              0,
              "#0d0887"
             ],
             [
              0.1111111111111111,
              "#46039f"
             ],
             [
              0.2222222222222222,
              "#7201a8"
             ],
             [
              0.3333333333333333,
              "#9c179e"
             ],
             [
              0.4444444444444444,
              "#bd3786"
             ],
             [
              0.5555555555555556,
              "#d8576b"
             ],
             [
              0.6666666666666666,
              "#ed7953"
             ],
             [
              0.7777777777777778,
              "#fb9f3a"
             ],
             [
              0.8888888888888888,
              "#fdca26"
             ],
             [
              1,
              "#f0f921"
             ]
            ],
            "type": "histogram2dcontour"
           }
          ],
          "mesh3d": [
           {
            "colorbar": {
             "outlinewidth": 0,
             "ticks": ""
            },
            "type": "mesh3d"
           }
          ],
          "parcoords": [
           {
            "line": {
             "colorbar": {
              "outlinewidth": 0,
              "ticks": ""
             }
            },
            "type": "parcoords"
           }
          ],
          "pie": [
           {
            "automargin": true,
            "type": "pie"
           }
          ],
          "scatter": [
           {
            "fillpattern": {
             "fillmode": "overlay",
             "size": 10,
             "solidity": 0.2
            },
            "type": "scatter"
           }
          ],
          "scatter3d": [
           {
            "line": {
             "colorbar": {
              "outlinewidth": 0,
              "ticks": ""
             }
            },
            "marker": {
             "colorbar": {
              "outlinewidth": 0,
              "ticks": ""
             }
            },
            "type": "scatter3d"
           }
          ],
          "scattercarpet": [
           {
            "marker": {
             "colorbar": {
              "outlinewidth": 0,
              "ticks": ""
             }
            },
            "type": "scattercarpet"
           }
          ],
          "scattergeo": [
           {
            "marker": {
             "colorbar": {
              "outlinewidth": 0,
              "ticks": ""
             }
            },
            "type": "scattergeo"
           }
          ],
          "scattergl": [
           {
            "marker": {
             "colorbar": {
              "outlinewidth": 0,
              "ticks": ""
             }
            },
            "type": "scattergl"
           }
          ],
          "scattermapbox": [
           {
            "marker": {
             "colorbar": {
              "outlinewidth": 0,
              "ticks": ""
             }
            },
            "type": "scattermapbox"
           }
          ],
          "scatterpolar": [
           {
            "marker": {
             "colorbar": {
              "outlinewidth": 0,
              "ticks": ""
             }
            },
            "type": "scatterpolar"
           }
          ],
          "scatterpolargl": [
           {
            "marker": {
             "colorbar": {
              "outlinewidth": 0,
              "ticks": ""
             }
            },
            "type": "scatterpolargl"
           }
          ],
          "scatterternary": [
           {
            "marker": {
             "colorbar": {
              "outlinewidth": 0,
              "ticks": ""
             }
            },
            "type": "scatterternary"
           }
          ],
          "surface": [
           {
            "colorbar": {
             "outlinewidth": 0,
             "ticks": ""
            },
            "colorscale": [
             [
              0,
              "#0d0887"
             ],
             [
              0.1111111111111111,
              "#46039f"
             ],
             [
              0.2222222222222222,
              "#7201a8"
             ],
             [
              0.3333333333333333,
              "#9c179e"
             ],
             [
              0.4444444444444444,
              "#bd3786"
             ],
             [
              0.5555555555555556,
              "#d8576b"
             ],
             [
              0.6666666666666666,
              "#ed7953"
             ],
             [
              0.7777777777777778,
              "#fb9f3a"
             ],
             [
              0.8888888888888888,
              "#fdca26"
             ],
             [
              1,
              "#f0f921"
             ]
            ],
            "type": "surface"
           }
          ],
          "table": [
           {
            "cells": {
             "fill": {
              "color": "#EBF0F8"
             },
             "line": {
              "color": "white"
             }
            },
            "header": {
             "fill": {
              "color": "#C8D4E3"
             },
             "line": {
              "color": "white"
             }
            },
            "type": "table"
           }
          ]
         },
         "layout": {
          "annotationdefaults": {
           "arrowcolor": "#2a3f5f",
           "arrowhead": 0,
           "arrowwidth": 1
          },
          "autotypenumbers": "strict",
          "coloraxis": {
           "colorbar": {
            "outlinewidth": 0,
            "ticks": ""
           }
          },
          "colorscale": {
           "diverging": [
            [
             0,
             "#8e0152"
            ],
            [
             0.1,
             "#c51b7d"
            ],
            [
             0.2,
             "#de77ae"
            ],
            [
             0.3,
             "#f1b6da"
            ],
            [
             0.4,
             "#fde0ef"
            ],
            [
             0.5,
             "#f7f7f7"
            ],
            [
             0.6,
             "#e6f5d0"
            ],
            [
             0.7,
             "#b8e186"
            ],
            [
             0.8,
             "#7fbc41"
            ],
            [
             0.9,
             "#4d9221"
            ],
            [
             1,
             "#276419"
            ]
           ],
           "sequential": [
            [
             0,
             "#0d0887"
            ],
            [
             0.1111111111111111,
             "#46039f"
            ],
            [
             0.2222222222222222,
             "#7201a8"
            ],
            [
             0.3333333333333333,
             "#9c179e"
            ],
            [
             0.4444444444444444,
             "#bd3786"
            ],
            [
             0.5555555555555556,
             "#d8576b"
            ],
            [
             0.6666666666666666,
             "#ed7953"
            ],
            [
             0.7777777777777778,
             "#fb9f3a"
            ],
            [
             0.8888888888888888,
             "#fdca26"
            ],
            [
             1,
             "#f0f921"
            ]
           ],
           "sequentialminus": [
            [
             0,
             "#0d0887"
            ],
            [
             0.1111111111111111,
             "#46039f"
            ],
            [
             0.2222222222222222,
             "#7201a8"
            ],
            [
             0.3333333333333333,
             "#9c179e"
            ],
            [
             0.4444444444444444,
             "#bd3786"
            ],
            [
             0.5555555555555556,
             "#d8576b"
            ],
            [
             0.6666666666666666,
             "#ed7953"
            ],
            [
             0.7777777777777778,
             "#fb9f3a"
            ],
            [
             0.8888888888888888,
             "#fdca26"
            ],
            [
             1,
             "#f0f921"
            ]
           ]
          },
          "colorway": [
           "#636efa",
           "#EF553B",
           "#00cc96",
           "#ab63fa",
           "#FFA15A",
           "#19d3f3",
           "#FF6692",
           "#B6E880",
           "#FF97FF",
           "#FECB52"
          ],
          "font": {
           "color": "#2a3f5f"
          },
          "geo": {
           "bgcolor": "white",
           "lakecolor": "white",
           "landcolor": "#E5ECF6",
           "showlakes": true,
           "showland": true,
           "subunitcolor": "white"
          },
          "hoverlabel": {
           "align": "left"
          },
          "hovermode": "closest",
          "mapbox": {
           "style": "light"
          },
          "paper_bgcolor": "white",
          "plot_bgcolor": "#E5ECF6",
          "polar": {
           "angularaxis": {
            "gridcolor": "white",
            "linecolor": "white",
            "ticks": ""
           },
           "bgcolor": "#E5ECF6",
           "radialaxis": {
            "gridcolor": "white",
            "linecolor": "white",
            "ticks": ""
           }
          },
          "scene": {
           "xaxis": {
            "backgroundcolor": "#E5ECF6",
            "gridcolor": "white",
            "gridwidth": 2,
            "linecolor": "white",
            "showbackground": true,
            "ticks": "",
            "zerolinecolor": "white"
           },
           "yaxis": {
            "backgroundcolor": "#E5ECF6",
            "gridcolor": "white",
            "gridwidth": 2,
            "linecolor": "white",
            "showbackground": true,
            "ticks": "",
            "zerolinecolor": "white"
           },
           "zaxis": {
            "backgroundcolor": "#E5ECF6",
            "gridcolor": "white",
            "gridwidth": 2,
            "linecolor": "white",
            "showbackground": true,
            "ticks": "",
            "zerolinecolor": "white"
           }
          },
          "shapedefaults": {
           "line": {
            "color": "#2a3f5f"
           }
          },
          "ternary": {
           "aaxis": {
            "gridcolor": "white",
            "linecolor": "white",
            "ticks": ""
           },
           "baxis": {
            "gridcolor": "white",
            "linecolor": "white",
            "ticks": ""
           },
           "bgcolor": "#E5ECF6",
           "caxis": {
            "gridcolor": "white",
            "linecolor": "white",
            "ticks": ""
           }
          },
          "title": {
           "x": 0.05
          },
          "xaxis": {
           "automargin": true,
           "gridcolor": "white",
           "linecolor": "white",
           "ticks": "",
           "title": {
            "standoff": 15
           },
           "zerolinecolor": "white",
           "zerolinewidth": 2
          },
          "yaxis": {
           "automargin": true,
           "gridcolor": "white",
           "linecolor": "white",
           "ticks": "",
           "title": {
            "standoff": 15
           },
           "zerolinecolor": "white",
           "zerolinewidth": 2
          }
         }
        },
        "title": {
         "text": "dec_dxf Plot with Plotly"
        },
        "xaxis": {
         "title": {
          "text": "X"
         }
        },
        "yaxis": {
         "scaleanchor": "x",
         "title": {
          "text": "Y"
         }
        }
       }
      }
     },
     "metadata": {},
     "output_type": "display_data"
    }
   ],
   "source": [
    "from plotly.offline import iplot\n",
    "\n",
    "import plotly.graph_objs as go\n",
    "\n",
    "fig = go.Figure()\n",
    "\n",
    "for shape in dec_dxf:\n",
    "    fig.add_trace(go.Scatter(\n",
    "        x=shape[0], y=shape[1],\n",
    "        mode='lines+markers'\n",
    "    ))\n",
    "\n",
    "fig.update_layout(\n",
    "    title=\"dec_dxf Plot with Plotly\",\n",
    "    xaxis_title=\"X\",\n",
    "    yaxis_title=\"Y\",\n",
    "    yaxis_scaleanchor=\"x\",\n",
    "    showlegend=False\n",
    ")\n",
    "\n",
    "iplot(fig)"
   ]
  },
  {
   "cell_type": "markdown",
   "id": "b0224362",
   "metadata": {},
   "source": [
    "Ok given how plotly just seems to be kinda nailing it right now(on the first try), and already comes with features like panning, I think it might just be the wiser choice to immediately switch to plotly and just get the code runing on plotly"
   ]
  },
  {
   "cell_type": "code",
   "execution_count": 40,
   "id": "89d10e8f",
   "metadata": {},
   "outputs": [],
   "source": [
    "def get_plotly_graph_from_dxf(path):\n",
    "    dxf_loaded = dxf_loader.load_dxf(path)\n",
    "    fig = go.Figure()\n",
    "\n",
    "    for shape in dxf_loaded:\n",
    "        print(f'{shape[0]}\\n{shape[1]}\\n\\n')#debug\n",
    "        fig.add_trace(go.Scatter(\n",
    "            \n",
    "            x=shape[0], y=shape[1],\n",
    "            mode='lines+markers'\n",
    "        ))\n",
    "\n",
    "    fig.update_layout(\n",
    "        title=\"dec_dxf Plot with Plotly\",\n",
    "        xaxis_title=\"X\",\n",
    "        yaxis_title=\"Y\",\n",
    "        yaxis_scaleanchor=\"x\",\n",
    "        showlegend=False\n",
    "    )\n",
    "\n",
    "    iplot(fig)"
   ]
  },
  {
   "cell_type": "code",
   "execution_count": 41,
   "id": "6116552e",
   "metadata": {},
   "outputs": [
    {
     "name": "stdout",
     "output_type": "stream",
     "text": [
      "is my debugging printing?\n",
      "CIRCLE(#10000057)\n",
      "\n",
      "circ appended\n",
      "LINE(#1000005B)\n",
      "\n",
      "(0.0, 0.0, 1.0)\n",
      "LINE(#1000005F)\n",
      "\n",
      "(0.0, 0.0, 1.0)\n",
      "LINE(#10000063)\n",
      "\n",
      "(0.0, 0.0, 1.0)\n",
      "LINE(#10000067)\n",
      "\n",
      "(0.0, 0.0, 1.0)\n",
      "[ 1.5         1.49626354  1.48507277  1.46648344  1.44058816  1.40751595\n",
      "  1.36743156  1.32053469  1.26705899  1.20727087  1.14146818  1.06997876\n",
      "  0.99315875  0.91139088  0.82508251  0.73466361  0.64058466  0.54331435\n",
      "  0.44333727  0.34115151  0.23726615  0.13219874  0.02647272 -0.07938518\n",
      " -0.18484759 -0.2893891  -0.39248888 -0.49363331 -0.59231848 -0.68805275\n",
      " -0.78035917 -0.86877789 -0.95286839 -1.03221176 -1.1064127  -1.17510154\n",
      " -1.23793609 -1.2946033  -1.34482087 -1.3883386  -1.4249397  -1.45444182\n",
      " -1.47669799 -1.49159732 -1.49906559 -1.49906559 -1.49159732 -1.47669799\n",
      " -1.45444182 -1.4249397  -1.3883386  -1.34482087 -1.2946033  -1.23793609\n",
      " -1.17510154 -1.1064127  -1.03221176 -0.95286839 -0.86877789 -0.78035917\n",
      " -0.68805275 -0.59231848 -0.49363331 -0.39248888 -0.2893891  -0.18484759\n",
      " -0.07938518  0.02647272  0.13219874  0.23726615  0.34115151  0.44333727\n",
      "  0.54331435  0.64058466  0.73466361  0.82508251  0.91139088  0.99315875\n",
      "  1.06997876  1.14146818  1.20727087  1.26705899  1.32053469  1.36743156\n",
      "  1.40751595  1.44058816  1.46648344  1.48507277  1.49626354  1.5       ]\n",
      "[ 0.00000000e+00  1.05808439e-01  2.11089745e-01  3.15319413e-01\n",
      "  4.17978175e-01  5.18554591e-01  6.16547594e-01  7.11468988e-01\n",
      "  8.02845880e-01  8.90223033e-01  9.73165140e-01  1.05125899e+00\n",
      "  1.12411552e+00  1.19137176e+00  1.25269264e+00  1.30777268e+00\n",
      "  1.35633746e+00  1.39814503e+00  1.43298711e+00  1.46069013e+00\n",
      "  1.48111606e+00  1.49416314e+00  1.49976638e+00  1.49789786e+00\n",
      "  1.48856688e+00  1.47181994e+00  1.44774047e+00  1.41644843e+00\n",
      "  1.37809971e+00  1.33288537e+00  1.28103066e+00  1.22279392e+00\n",
      "  1.15846529e+00  1.08836524e+00  1.01284300e+00  9.32274836e-01\n",
      "  8.47062123e-01  7.57629390e-01  6.64422185e-01  5.67904862e-01\n",
      "  4.68558266e-01  3.66877335e-01  2.63368641e-01  1.58547857e-01\n",
      "  5.29371959e-02 -5.29371959e-02 -1.58547857e-01 -2.63368641e-01\n",
      " -3.66877335e-01 -4.68558266e-01 -5.67904862e-01 -6.64422185e-01\n",
      " -7.57629390e-01 -8.47062123e-01 -9.32274836e-01 -1.01284300e+00\n",
      " -1.08836524e+00 -1.15846529e+00 -1.22279392e+00 -1.28103066e+00\n",
      " -1.33288537e+00 -1.37809971e+00 -1.41644843e+00 -1.44774047e+00\n",
      " -1.47181994e+00 -1.48856688e+00 -1.49789786e+00 -1.49976638e+00\n",
      " -1.49416314e+00 -1.48111606e+00 -1.46069013e+00 -1.43298711e+00\n",
      " -1.39814503e+00 -1.35633746e+00 -1.30777268e+00 -1.25269264e+00\n",
      " -1.19137176e+00 -1.12411552e+00 -1.05125899e+00 -9.73165140e-01\n",
      " -8.90223033e-01 -8.02845880e-01 -7.11468988e-01 -6.16547594e-01\n",
      " -5.18554591e-01 -4.17978175e-01 -3.15319413e-01 -2.11089745e-01\n",
      " -1.05808439e-01 -3.67394040e-16]\n",
      "\n",
      "\n",
      "[-1.75  1.75]\n",
      "[-1.75 -1.75]\n",
      "\n",
      "\n",
      "[-1.75  1.75]\n",
      "[1.75 1.75]\n",
      "\n",
      "\n",
      "[1.75 1.75]\n",
      "[-1.75  1.75]\n",
      "\n",
      "\n",
      "[-1.75 -1.75]\n",
      "[-1.75  1.75]\n",
      "\n",
      "\n"
     ]
    },
    {
     "name": "stderr",
     "output_type": "stream",
     "text": [
      "<>:1: SyntaxWarning:\n",
      "\n",
      "invalid escape sequence '\\d'\n",
      "\n",
      "<>:1: SyntaxWarning:\n",
      "\n",
      "invalid escape sequence '\\d'\n",
      "\n",
      "C:\\Users\\ndian\\AppData\\Local\\Temp\\ipykernel_27004\\341196303.py:1: SyntaxWarning:\n",
      "\n",
      "invalid escape sequence '\\d'\n",
      "\n"
     ]
    },
    {
     "data": {
      "application/vnd.plotly.v1+json": {
       "config": {
        "linkText": "Export to plot.ly",
        "plotlyServerURL": "https://plot.ly",
        "showLink": false
       },
       "data": [
        {
         "mode": "lines+markers",
         "type": "scatter",
         "x": [
          1.5,
          1.4962635377261457,
          1.4850727657716813,
          1.4664834359995715,
          1.4405881595156689,
          1.4075159452848442,
          1.3674315574148128,
          1.320534694309637,
          1.2670589937823231,
          1.2072708690829885,
          1.1414681816414518,
          1.0699787571365702,
          0.9931587522852008,
          0.9113908804873485,
          0.8250825051672621,
          0.7346636103093426,
          0.640584658299564,
          0.543314345744524,
          0.4433372684485262,
          0.3411515071816595,
          0.23726614626645604,
          0.13219873734540274,
          0.026472720964693056,
          -0.07938518118024442,
          -0.18484759034573778,
          -0.2893890981142452,
          -0.3924888839526609,
          -0.49363330991401483,
          -0.5923184795558867,
          -0.6880527483271355,
          -0.7803591729163232,
          -0.8687778873592997,
          -0.9528683940683078,
          -1.032211758368803,
          -1.1064126956109333,
          -1.1751015404577787,
          -1.237936088539466,
          -1.2946033012981262,
          -1.344820865530243,
          -1.3883385998568314,
          -1.4249397011144862,
          -1.454441824457832,
          -1.476697991792375,
          -1.4915973240119729,
          -1.4990655933929673,
          -1.4990655933929673,
          -1.491597324011973,
          -1.476697991792375,
          -1.4544418244578323,
          -1.4249397011144864,
          -1.3883385998568316,
          -1.344820865530243,
          -1.2946033012981264,
          -1.2379360885394664,
          -1.175101540457779,
          -1.1064126956109335,
          -1.0322117583688035,
          -0.9528683940683085,
          -0.8687778873593006,
          -0.7803591729163235,
          -0.6880527483271359,
          -0.5923184795558867,
          -0.49363330991401577,
          -0.39248888395266157,
          -0.28938909811424557,
          -0.18484759034573817,
          -0.07938518118024444,
          0.02647272096469202,
          0.13219873734540202,
          0.2372661462664557,
          0.34115150718165943,
          0.4433372684485262,
          0.543314345744523,
          0.6405846582995633,
          0.7346636103093422,
          0.8250825051672619,
          0.9113908804873487,
          0.9931587522851999,
          1.06997875713657,
          1.1414681816414514,
          1.2072708690829885,
          1.2670589937823231,
          1.3205346943096365,
          1.3674315574148126,
          1.4075159452848442,
          1.4405881595156689,
          1.4664834359995715,
          1.4850727657716813,
          1.4962635377261457,
          1.5
         ],
         "y": [
          0,
          0.10580843856346644,
          0.21108974480833578,
          0.3153194125627066,
          0.4179781748647382,
          0.5185545909245345,
          0.6165475940964327,
          0.7114689881678283,
          0.802845879528149,
          0.8902230331010343,
          0.973165140302589,
          1.0512589877268494,
          1.1241155157541878,
          1.1913717568267663,
          1.2526926437346533,
          1.307772678903808,
          1.3563374563696273,
          1.3981450288536594,
          1.4329871131327732,
          1.4606901276957007,
          1.4811160575173927,
          1.4941631416429335,
          1.499766380155498,
          1.4978978580026676,
          1.4885668840678186,
          1.471819944793732,
          1.4477404725894745,
          1.4164484301743339,
          1.3780997129295844,
          1.3328853722355405,
          1.2810306636631896,
          1.2227939247622683,
          1.1584652880365836,
          1.088365235518474,
          1.012843002143446,
          0.932274835879289,
          0.8470621232776305,
          0.7576293897863211,
          0.664422184785012,
          0.5679048618805553,
          0.46855826552069124,
          0.3668773354512003,
          0.2633686409509813,
          0.15854785712938943,
          0.05293719585877902,
          -0.05293719585877865,
          -0.15854785712938904,
          -0.2633686409509809,
          -0.3668773354511993,
          -0.4685582655206909,
          -0.567904861880555,
          -0.6644221847850116,
          -0.7576293897863208,
          -0.8470621232776298,
          -0.9322748358792887,
          -1.0128430021434456,
          -1.0883652355184736,
          -1.1584652880365827,
          -1.2227939247622677,
          -1.2810306636631894,
          -1.3328853722355403,
          -1.3780997129295844,
          -1.4164484301743334,
          -1.4477404725894742,
          -1.4718199447937317,
          -1.4885668840678186,
          -1.4978978580026676,
          -1.499766380155498,
          -1.4941631416429337,
          -1.4811160575173927,
          -1.4606901276957007,
          -1.4329871131327732,
          -1.3981450288536597,
          -1.3563374563696275,
          -1.3077726789038082,
          -1.2526926437346533,
          -1.1913717568267663,
          -1.1241155157541884,
          -1.05125898772685,
          -0.9731651403025894,
          -0.8902230331010346,
          -0.8028458795281488,
          -0.7114689881678291,
          -0.6165475940964332,
          -0.5185545909245348,
          -0.41797817486473837,
          -0.31531941256270646,
          -0.2110897448083367,
          -0.10580843856346708,
          -3.6739403974420594e-16
         ]
        },
        {
         "mode": "lines+markers",
         "type": "scatter",
         "x": [
          -1.75,
          1.75
         ],
         "y": [
          -1.75,
          -1.75
         ]
        },
        {
         "mode": "lines+markers",
         "type": "scatter",
         "x": [
          -1.75,
          1.75
         ],
         "y": [
          1.75,
          1.75
         ]
        },
        {
         "mode": "lines+markers",
         "type": "scatter",
         "x": [
          1.75,
          1.75
         ],
         "y": [
          -1.75,
          1.75
         ]
        },
        {
         "mode": "lines+markers",
         "type": "scatter",
         "x": [
          -1.75,
          -1.75
         ],
         "y": [
          -1.75,
          1.75
         ]
        }
       ],
       "layout": {
        "showlegend": false,
        "template": {
         "data": {
          "bar": [
           {
            "error_x": {
             "color": "#2a3f5f"
            },
            "error_y": {
             "color": "#2a3f5f"
            },
            "marker": {
             "line": {
              "color": "#E5ECF6",
              "width": 0.5
             },
             "pattern": {
              "fillmode": "overlay",
              "size": 10,
              "solidity": 0.2
             }
            },
            "type": "bar"
           }
          ],
          "barpolar": [
           {
            "marker": {
             "line": {
              "color": "#E5ECF6",
              "width": 0.5
             },
             "pattern": {
              "fillmode": "overlay",
              "size": 10,
              "solidity": 0.2
             }
            },
            "type": "barpolar"
           }
          ],
          "carpet": [
           {
            "aaxis": {
             "endlinecolor": "#2a3f5f",
             "gridcolor": "white",
             "linecolor": "white",
             "minorgridcolor": "white",
             "startlinecolor": "#2a3f5f"
            },
            "baxis": {
             "endlinecolor": "#2a3f5f",
             "gridcolor": "white",
             "linecolor": "white",
             "minorgridcolor": "white",
             "startlinecolor": "#2a3f5f"
            },
            "type": "carpet"
           }
          ],
          "choropleth": [
           {
            "colorbar": {
             "outlinewidth": 0,
             "ticks": ""
            },
            "type": "choropleth"
           }
          ],
          "contour": [
           {
            "colorbar": {
             "outlinewidth": 0,
             "ticks": ""
            },
            "colorscale": [
             [
              0,
              "#0d0887"
             ],
             [
              0.1111111111111111,
              "#46039f"
             ],
             [
              0.2222222222222222,
              "#7201a8"
             ],
             [
              0.3333333333333333,
              "#9c179e"
             ],
             [
              0.4444444444444444,
              "#bd3786"
             ],
             [
              0.5555555555555556,
              "#d8576b"
             ],
             [
              0.6666666666666666,
              "#ed7953"
             ],
             [
              0.7777777777777778,
              "#fb9f3a"
             ],
             [
              0.8888888888888888,
              "#fdca26"
             ],
             [
              1,
              "#f0f921"
             ]
            ],
            "type": "contour"
           }
          ],
          "contourcarpet": [
           {
            "colorbar": {
             "outlinewidth": 0,
             "ticks": ""
            },
            "type": "contourcarpet"
           }
          ],
          "heatmap": [
           {
            "colorbar": {
             "outlinewidth": 0,
             "ticks": ""
            },
            "colorscale": [
             [
              0,
              "#0d0887"
             ],
             [
              0.1111111111111111,
              "#46039f"
             ],
             [
              0.2222222222222222,
              "#7201a8"
             ],
             [
              0.3333333333333333,
              "#9c179e"
             ],
             [
              0.4444444444444444,
              "#bd3786"
             ],
             [
              0.5555555555555556,
              "#d8576b"
             ],
             [
              0.6666666666666666,
              "#ed7953"
             ],
             [
              0.7777777777777778,
              "#fb9f3a"
             ],
             [
              0.8888888888888888,
              "#fdca26"
             ],
             [
              1,
              "#f0f921"
             ]
            ],
            "type": "heatmap"
           }
          ],
          "heatmapgl": [
           {
            "colorbar": {
             "outlinewidth": 0,
             "ticks": ""
            },
            "colorscale": [
             [
              0,
              "#0d0887"
             ],
             [
              0.1111111111111111,
              "#46039f"
             ],
             [
              0.2222222222222222,
              "#7201a8"
             ],
             [
              0.3333333333333333,
              "#9c179e"
             ],
             [
              0.4444444444444444,
              "#bd3786"
             ],
             [
              0.5555555555555556,
              "#d8576b"
             ],
             [
              0.6666666666666666,
              "#ed7953"
             ],
             [
              0.7777777777777778,
              "#fb9f3a"
             ],
             [
              0.8888888888888888,
              "#fdca26"
             ],
             [
              1,
              "#f0f921"
             ]
            ],
            "type": "heatmapgl"
           }
          ],
          "histogram": [
           {
            "marker": {
             "pattern": {
              "fillmode": "overlay",
              "size": 10,
              "solidity": 0.2
             }
            },
            "type": "histogram"
           }
          ],
          "histogram2d": [
           {
            "colorbar": {
             "outlinewidth": 0,
             "ticks": ""
            },
            "colorscale": [
             [
              0,
              "#0d0887"
             ],
             [
              0.1111111111111111,
              "#46039f"
             ],
             [
              0.2222222222222222,
              "#7201a8"
             ],
             [
              0.3333333333333333,
              "#9c179e"
             ],
             [
              0.4444444444444444,
              "#bd3786"
             ],
             [
              0.5555555555555556,
              "#d8576b"
             ],
             [
              0.6666666666666666,
              "#ed7953"
             ],
             [
              0.7777777777777778,
              "#fb9f3a"
             ],
             [
              0.8888888888888888,
              "#fdca26"
             ],
             [
              1,
              "#f0f921"
             ]
            ],
            "type": "histogram2d"
           }
          ],
          "histogram2dcontour": [
           {
            "colorbar": {
             "outlinewidth": 0,
             "ticks": ""
            },
            "colorscale": [
             [
              0,
              "#0d0887"
             ],
             [
              0.1111111111111111,
              "#46039f"
             ],
             [
              0.2222222222222222,
              "#7201a8"
             ],
             [
              0.3333333333333333,
              "#9c179e"
             ],
             [
              0.4444444444444444,
              "#bd3786"
             ],
             [
              0.5555555555555556,
              "#d8576b"
             ],
             [
              0.6666666666666666,
              "#ed7953"
             ],
             [
              0.7777777777777778,
              "#fb9f3a"
             ],
             [
              0.8888888888888888,
              "#fdca26"
             ],
             [
              1,
              "#f0f921"
             ]
            ],
            "type": "histogram2dcontour"
           }
          ],
          "mesh3d": [
           {
            "colorbar": {
             "outlinewidth": 0,
             "ticks": ""
            },
            "type": "mesh3d"
           }
          ],
          "parcoords": [
           {
            "line": {
             "colorbar": {
              "outlinewidth": 0,
              "ticks": ""
             }
            },
            "type": "parcoords"
           }
          ],
          "pie": [
           {
            "automargin": true,
            "type": "pie"
           }
          ],
          "scatter": [
           {
            "fillpattern": {
             "fillmode": "overlay",
             "size": 10,
             "solidity": 0.2
            },
            "type": "scatter"
           }
          ],
          "scatter3d": [
           {
            "line": {
             "colorbar": {
              "outlinewidth": 0,
              "ticks": ""
             }
            },
            "marker": {
             "colorbar": {
              "outlinewidth": 0,
              "ticks": ""
             }
            },
            "type": "scatter3d"
           }
          ],
          "scattercarpet": [
           {
            "marker": {
             "colorbar": {
              "outlinewidth": 0,
              "ticks": ""
             }
            },
            "type": "scattercarpet"
           }
          ],
          "scattergeo": [
           {
            "marker": {
             "colorbar": {
              "outlinewidth": 0,
              "ticks": ""
             }
            },
            "type": "scattergeo"
           }
          ],
          "scattergl": [
           {
            "marker": {
             "colorbar": {
              "outlinewidth": 0,
              "ticks": ""
             }
            },
            "type": "scattergl"
           }
          ],
          "scattermapbox": [
           {
            "marker": {
             "colorbar": {
              "outlinewidth": 0,
              "ticks": ""
             }
            },
            "type": "scattermapbox"
           }
          ],
          "scatterpolar": [
           {
            "marker": {
             "colorbar": {
              "outlinewidth": 0,
              "ticks": ""
             }
            },
            "type": "scatterpolar"
           }
          ],
          "scatterpolargl": [
           {
            "marker": {
             "colorbar": {
              "outlinewidth": 0,
              "ticks": ""
             }
            },
            "type": "scatterpolargl"
           }
          ],
          "scatterternary": [
           {
            "marker": {
             "colorbar": {
              "outlinewidth": 0,
              "ticks": ""
             }
            },
            "type": "scatterternary"
           }
          ],
          "surface": [
           {
            "colorbar": {
             "outlinewidth": 0,
             "ticks": ""
            },
            "colorscale": [
             [
              0,
              "#0d0887"
             ],
             [
              0.1111111111111111,
              "#46039f"
             ],
             [
              0.2222222222222222,
              "#7201a8"
             ],
             [
              0.3333333333333333,
              "#9c179e"
             ],
             [
              0.4444444444444444,
              "#bd3786"
             ],
             [
              0.5555555555555556,
              "#d8576b"
             ],
             [
              0.6666666666666666,
              "#ed7953"
             ],
             [
              0.7777777777777778,
              "#fb9f3a"
             ],
             [
              0.8888888888888888,
              "#fdca26"
             ],
             [
              1,
              "#f0f921"
             ]
            ],
            "type": "surface"
           }
          ],
          "table": [
           {
            "cells": {
             "fill": {
              "color": "#EBF0F8"
             },
             "line": {
              "color": "white"
             }
            },
            "header": {
             "fill": {
              "color": "#C8D4E3"
             },
             "line": {
              "color": "white"
             }
            },
            "type": "table"
           }
          ]
         },
         "layout": {
          "annotationdefaults": {
           "arrowcolor": "#2a3f5f",
           "arrowhead": 0,
           "arrowwidth": 1
          },
          "autotypenumbers": "strict",
          "coloraxis": {
           "colorbar": {
            "outlinewidth": 0,
            "ticks": ""
           }
          },
          "colorscale": {
           "diverging": [
            [
             0,
             "#8e0152"
            ],
            [
             0.1,
             "#c51b7d"
            ],
            [
             0.2,
             "#de77ae"
            ],
            [
             0.3,
             "#f1b6da"
            ],
            [
             0.4,
             "#fde0ef"
            ],
            [
             0.5,
             "#f7f7f7"
            ],
            [
             0.6,
             "#e6f5d0"
            ],
            [
             0.7,
             "#b8e186"
            ],
            [
             0.8,
             "#7fbc41"
            ],
            [
             0.9,
             "#4d9221"
            ],
            [
             1,
             "#276419"
            ]
           ],
           "sequential": [
            [
             0,
             "#0d0887"
            ],
            [
             0.1111111111111111,
             "#46039f"
            ],
            [
             0.2222222222222222,
             "#7201a8"
            ],
            [
             0.3333333333333333,
             "#9c179e"
            ],
            [
             0.4444444444444444,
             "#bd3786"
            ],
            [
             0.5555555555555556,
             "#d8576b"
            ],
            [
             0.6666666666666666,
             "#ed7953"
            ],
            [
             0.7777777777777778,
             "#fb9f3a"
            ],
            [
             0.8888888888888888,
             "#fdca26"
            ],
            [
             1,
             "#f0f921"
            ]
           ],
           "sequentialminus": [
            [
             0,
             "#0d0887"
            ],
            [
             0.1111111111111111,
             "#46039f"
            ],
            [
             0.2222222222222222,
             "#7201a8"
            ],
            [
             0.3333333333333333,
             "#9c179e"
            ],
            [
             0.4444444444444444,
             "#bd3786"
            ],
            [
             0.5555555555555556,
             "#d8576b"
            ],
            [
             0.6666666666666666,
             "#ed7953"
            ],
            [
             0.7777777777777778,
             "#fb9f3a"
            ],
            [
             0.8888888888888888,
             "#fdca26"
            ],
            [
             1,
             "#f0f921"
            ]
           ]
          },
          "colorway": [
           "#636efa",
           "#EF553B",
           "#00cc96",
           "#ab63fa",
           "#FFA15A",
           "#19d3f3",
           "#FF6692",
           "#B6E880",
           "#FF97FF",
           "#FECB52"
          ],
          "font": {
           "color": "#2a3f5f"
          },
          "geo": {
           "bgcolor": "white",
           "lakecolor": "white",
           "landcolor": "#E5ECF6",
           "showlakes": true,
           "showland": true,
           "subunitcolor": "white"
          },
          "hoverlabel": {
           "align": "left"
          },
          "hovermode": "closest",
          "mapbox": {
           "style": "light"
          },
          "paper_bgcolor": "white",
          "plot_bgcolor": "#E5ECF6",
          "polar": {
           "angularaxis": {
            "gridcolor": "white",
            "linecolor": "white",
            "ticks": ""
           },
           "bgcolor": "#E5ECF6",
           "radialaxis": {
            "gridcolor": "white",
            "linecolor": "white",
            "ticks": ""
           }
          },
          "scene": {
           "xaxis": {
            "backgroundcolor": "#E5ECF6",
            "gridcolor": "white",
            "gridwidth": 2,
            "linecolor": "white",
            "showbackground": true,
            "ticks": "",
            "zerolinecolor": "white"
           },
           "yaxis": {
            "backgroundcolor": "#E5ECF6",
            "gridcolor": "white",
            "gridwidth": 2,
            "linecolor": "white",
            "showbackground": true,
            "ticks": "",
            "zerolinecolor": "white"
           },
           "zaxis": {
            "backgroundcolor": "#E5ECF6",
            "gridcolor": "white",
            "gridwidth": 2,
            "linecolor": "white",
            "showbackground": true,
            "ticks": "",
            "zerolinecolor": "white"
           }
          },
          "shapedefaults": {
           "line": {
            "color": "#2a3f5f"
           }
          },
          "ternary": {
           "aaxis": {
            "gridcolor": "white",
            "linecolor": "white",
            "ticks": ""
           },
           "baxis": {
            "gridcolor": "white",
            "linecolor": "white",
            "ticks": ""
           },
           "bgcolor": "#E5ECF6",
           "caxis": {
            "gridcolor": "white",
            "linecolor": "white",
            "ticks": ""
           }
          },
          "title": {
           "x": 0.05
          },
          "xaxis": {
           "automargin": true,
           "gridcolor": "white",
           "linecolor": "white",
           "ticks": "",
           "title": {
            "standoff": 15
           },
           "zerolinecolor": "white",
           "zerolinewidth": 2
          },
          "yaxis": {
           "automargin": true,
           "gridcolor": "white",
           "linecolor": "white",
           "ticks": "",
           "title": {
            "standoff": 15
           },
           "zerolinecolor": "white",
           "zerolinewidth": 2
          }
         }
        },
        "title": {
         "text": "dec_dxf Plot with Plotly"
        },
        "xaxis": {
         "title": {
          "text": "X"
         }
        },
        "yaxis": {
         "scaleanchor": "x",
         "title": {
          "text": "Y"
         }
        }
       }
      }
     },
     "metadata": {},
     "output_type": "display_data"
    }
   ],
   "source": [
    "get_plotly_graph_from_dxf('samples\\dxf\\Square-Circle.dxf')\n"
   ]
  },
  {
   "cell_type": "code",
   "execution_count": 42,
   "id": "0ae5ac4d",
   "metadata": {},
   "outputs": [
    {
     "name": "stdout",
     "output_type": "stream",
     "text": [
      "is my debugging printing?\n",
      "CIRCLE(#10000057)\n",
      "\n",
      "circ appended\n",
      "[ 2.17560884  2.17018946  2.15395829  2.12699622  2.08943756  2.04146943\n",
      "  1.98333079  1.91531131  1.83774983  1.75103279  1.65559218  1.5519035\n",
      "  1.44048331  1.32188671  1.19670453  1.06556043  0.92910777  0.78802633\n",
      "  0.64301899  0.49480816  0.34413222  0.19174183  0.03839619 -0.11514073\n",
      " -0.26810403 -0.41973165 -0.56926819 -0.71596866 -0.85910221 -0.99795576\n",
      " -1.13183755 -1.26008057 -1.38204594 -1.49712602 -1.6047475  -1.7043742\n",
      " -1.7955098  -1.87770026 -1.95053611 -2.01365449 -2.06674094 -2.109531\n",
      " -2.14181147 -2.16342155 -2.17425357 -2.17425357 -2.16342155 -2.14181147\n",
      " -2.109531   -2.06674094 -2.01365449 -1.95053611 -1.87770026 -1.7955098\n",
      " -1.7043742  -1.6047475  -1.49712602 -1.38204594 -1.26008057 -1.13183755\n",
      " -0.99795576 -0.85910221 -0.71596866 -0.56926819 -0.41973165 -0.26810403\n",
      " -0.11514073  0.03839619  0.19174183  0.34413222  0.49480816  0.64301899\n",
      "  0.78802633  0.92910777  1.06556043  1.19670453  1.32188671  1.44048331\n",
      "  1.5519035   1.65559218  1.75103279  1.83774983  1.91531131  1.98333079\n",
      "  2.04146943  2.08943756  2.12699622  2.15395829  2.17018946  2.17560884]\n",
      "[ 0.00000000e+00  1.53465183e-01  3.06165810e-01  4.57341135e-01\n",
      "  6.06238009e-01  7.52114636e-01  8.94244265e-01  1.03191881e+00\n",
      "  1.16445240e+00  1.29118474e+00  1.41148446e+00  1.52475223e+00\n",
      "  1.63042377e+00  1.72797262e+00  1.81691280e+00  1.89680120e+00\n",
      "  1.96723984e+00  2.02787779e+00  2.07841296e+00  2.11859357e+00\n",
      "  2.14821946e+00  2.16714303e+00  2.17527000e+00  2.17255988e+00\n",
      "  2.15902618e+00  2.13473633e+00  2.09981132e+00  2.05442515e+00\n",
      "  1.99880395e+00  1.93322480e+00  1.85801443e+00  1.77354752e+00\n",
      "  1.68024488e+00  1.57857135e+00  1.46903346e+00  1.35217692e+00\n",
      "  1.22858390e+00  1.09887013e+00  9.63681854e-01  8.23692560e-01\n",
      "  6.79599671e-01  5.32121050e-01  3.81991430e-01  2.29958747e-01\n",
      "  7.67804210e-02 -7.67804210e-02 -2.29958747e-01 -3.81991430e-01\n",
      " -5.32121050e-01 -6.79599671e-01 -8.23692560e-01 -9.63681854e-01\n",
      " -1.09887013e+00 -1.22858390e+00 -1.35217692e+00 -1.46903346e+00\n",
      " -1.57857135e+00 -1.68024488e+00 -1.77354752e+00 -1.85801443e+00\n",
      " -1.93322480e+00 -1.99880395e+00 -2.05442515e+00 -2.09981132e+00\n",
      " -2.13473633e+00 -2.15902618e+00 -2.17255988e+00 -2.17527000e+00\n",
      " -2.16714303e+00 -2.14821946e+00 -2.11859357e+00 -2.07841296e+00\n",
      " -2.02787779e+00 -1.96723984e+00 -1.89680120e+00 -1.81691280e+00\n",
      " -1.72797262e+00 -1.63042377e+00 -1.52475223e+00 -1.41148446e+00\n",
      " -1.29118474e+00 -1.16445240e+00 -1.03191881e+00 -8.94244265e-01\n",
      " -7.52114636e-01 -6.06238009e-01 -4.57341135e-01 -3.06165810e-01\n",
      " -1.53465183e-01 -5.32870481e-16]\n",
      "\n",
      "\n"
     ]
    },
    {
     "data": {
      "application/vnd.plotly.v1+json": {
       "config": {
        "linkText": "Export to plot.ly",
        "plotlyServerURL": "https://plot.ly",
        "showLink": false
       },
       "data": [
        {
         "mode": "lines+markers",
         "type": "scatter",
         "x": [
          2.175608843382706,
          2.170189456472064,
          2.1539582948531226,
          2.1269962213566163,
          2.0894375596764703,
          2.0414694251759173,
          1.9833307926881687,
          1.9153113059558162,
          1.8377498346402767,
          1.7510327860901833,
          1.655592180279413,
          1.5519034975053059,
          1.4404833095697447,
          1.3218867062444175,
          1.1967045298415016,
          1.0655604316669811,
          0.9291077650212135,
          0.7880263302256502,
          0.6430189878918309,
          0.4948081573051714,
          0.3441322173684242,
          0.19174182803512385,
          0.038396190559459316,
          -0.1151407348061854,
          -0.26810403482278056,
          -0.4197316540239316,
          -0.5692681912378784,
          -0.7159686629581378,
          -0.8591022148138571,
          -0.9979557626495276,
          -1.1318375450743778,
          -1.2600805697828246,
          -1.3820459364765918,
          -1.497126019833854,
          -1.6047474966680295,
          -1.704374202195056,
          -1.7955098011793722,
          -1.8777002606510993,
          -1.950536111875454,
          -2.013654490305391,
          -2.066740943354524,
          -2.109530996984091,
          -2.141811473299316,
          -2.1634215525909517,
          -2.1742535745309888,
          -2.1742535745309888,
          -2.163421552590952,
          -2.141811473299316,
          -2.1095309969840916,
          -2.066740943354524,
          -2.0136544903053912,
          -1.9505361118754543,
          -1.8777002606510995,
          -1.7955098011793729,
          -1.7043742021950563,
          -1.6047474966680297,
          -1.4971260198338545,
          -1.3820459364765927,
          -1.2600805697828257,
          -1.1318375450743783,
          -0.997955762649528,
          -0.8591022148138571,
          -0.7159686629581391,
          -0.5692681912378794,
          -0.41973165402393214,
          -0.2681040348227811,
          -0.11514073480618545,
          0.03839619055945781,
          0.19174182803512282,
          0.34413221736842375,
          0.49480815730517136,
          0.6430189878918309,
          0.7880263302256488,
          0.9291077650212126,
          1.0655604316669807,
          1.1967045298415013,
          1.3218867062444177,
          1.4404833095697434,
          1.5519034975053054,
          1.6555921802794125,
          1.751032786090183,
          1.8377498346402767,
          1.9153113059558156,
          1.9833307926881685,
          2.0414694251759173,
          2.0894375596764703,
          2.1269962213566163,
          2.1539582948531226,
          2.170189456472064,
          2.175608843382706
         ],
         "y": [
          0,
          0.1534651830954622,
          0.30616581036827595,
          0.4573411349744429,
          0.606238009051125,
          0.7521146358614124,
          0.8942442653883532,
          1.031918814966982,
          1.1644523969165383,
          1.2911847355983903,
          1.4114844568760563,
          1.52475223358939,
          1.6304237713723482,
          1.7279726199391356,
          1.8169127958330487,
          1.8968012035716109,
          1.9672398431259777,
          2.0278777927370597,
          2.078412957190077,
          2.11859357283772,
          2.1482194618739787,
          2.167143029609902,
          2.1752699997829135,
          2.172559884236411,
          2.1590261846297234,
          2.134736325173526,
          2.099811316725812,
          2.054425153921888,
          1.998803948341848,
          1.9332248020340612,
          1.8580144270067014,
          1.7735475175649587,
          1.6802448836028565,
          1.578571354149529,
          1.46903346161438,
          1.3521769182680947,
          1.2285838975315633,
          1.0988701336171756,
          0.9636818539719536,
          0.8236925598049135,
          0.6795996707379186,
          0.5321210502962099,
          0.38199142954842635,
          0.22995874671338495,
          0.07678042096949465,
          -0.07678042096949413,
          -0.2299587467133844,
          -0.3819914295484258,
          -0.5321210502962085,
          -0.679599670737918,
          -0.8236925598049131,
          -0.963681853971953,
          -1.0988701336171751,
          -1.2285838975315622,
          -1.3521769182680943,
          -1.4690334616143794,
          -1.5785713541495285,
          -1.6802448836028552,
          -1.7735475175649578,
          -1.8580144270067012,
          -1.933224802034061,
          -1.998803948341848,
          -2.0544251539218874,
          -2.099811316725812,
          -2.1347363251735256,
          -2.1590261846297234,
          -2.172559884236411,
          -2.175269999782914,
          -2.167143029609902,
          -2.1482194618739787,
          -2.11859357283772,
          -2.078412957190077,
          -2.02787779273706,
          -1.9672398431259779,
          -1.896801203571611,
          -1.8169127958330489,
          -1.7279726199391354,
          -1.630423771372349,
          -1.5247522335893908,
          -1.4114844568760567,
          -1.2911847355983908,
          -1.164452396916538,
          -1.0319188149669833,
          -0.8942442653883541,
          -0.7521146358614129,
          -0.6062380090511252,
          -0.45734113497444273,
          -0.3061658103682773,
          -0.15346518309546314,
          -5.328704812490612e-16
         ]
        }
       ],
       "layout": {
        "showlegend": false,
        "template": {
         "data": {
          "bar": [
           {
            "error_x": {
             "color": "#2a3f5f"
            },
            "error_y": {
             "color": "#2a3f5f"
            },
            "marker": {
             "line": {
              "color": "#E5ECF6",
              "width": 0.5
             },
             "pattern": {
              "fillmode": "overlay",
              "size": 10,
              "solidity": 0.2
             }
            },
            "type": "bar"
           }
          ],
          "barpolar": [
           {
            "marker": {
             "line": {
              "color": "#E5ECF6",
              "width": 0.5
             },
             "pattern": {
              "fillmode": "overlay",
              "size": 10,
              "solidity": 0.2
             }
            },
            "type": "barpolar"
           }
          ],
          "carpet": [
           {
            "aaxis": {
             "endlinecolor": "#2a3f5f",
             "gridcolor": "white",
             "linecolor": "white",
             "minorgridcolor": "white",
             "startlinecolor": "#2a3f5f"
            },
            "baxis": {
             "endlinecolor": "#2a3f5f",
             "gridcolor": "white",
             "linecolor": "white",
             "minorgridcolor": "white",
             "startlinecolor": "#2a3f5f"
            },
            "type": "carpet"
           }
          ],
          "choropleth": [
           {
            "colorbar": {
             "outlinewidth": 0,
             "ticks": ""
            },
            "type": "choropleth"
           }
          ],
          "contour": [
           {
            "colorbar": {
             "outlinewidth": 0,
             "ticks": ""
            },
            "colorscale": [
             [
              0,
              "#0d0887"
             ],
             [
              0.1111111111111111,
              "#46039f"
             ],
             [
              0.2222222222222222,
              "#7201a8"
             ],
             [
              0.3333333333333333,
              "#9c179e"
             ],
             [
              0.4444444444444444,
              "#bd3786"
             ],
             [
              0.5555555555555556,
              "#d8576b"
             ],
             [
              0.6666666666666666,
              "#ed7953"
             ],
             [
              0.7777777777777778,
              "#fb9f3a"
             ],
             [
              0.8888888888888888,
              "#fdca26"
             ],
             [
              1,
              "#f0f921"
             ]
            ],
            "type": "contour"
           }
          ],
          "contourcarpet": [
           {
            "colorbar": {
             "outlinewidth": 0,
             "ticks": ""
            },
            "type": "contourcarpet"
           }
          ],
          "heatmap": [
           {
            "colorbar": {
             "outlinewidth": 0,
             "ticks": ""
            },
            "colorscale": [
             [
              0,
              "#0d0887"
             ],
             [
              0.1111111111111111,
              "#46039f"
             ],
             [
              0.2222222222222222,
              "#7201a8"
             ],
             [
              0.3333333333333333,
              "#9c179e"
             ],
             [
              0.4444444444444444,
              "#bd3786"
             ],
             [
              0.5555555555555556,
              "#d8576b"
             ],
             [
              0.6666666666666666,
              "#ed7953"
             ],
             [
              0.7777777777777778,
              "#fb9f3a"
             ],
             [
              0.8888888888888888,
              "#fdca26"
             ],
             [
              1,
              "#f0f921"
             ]
            ],
            "type": "heatmap"
           }
          ],
          "heatmapgl": [
           {
            "colorbar": {
             "outlinewidth": 0,
             "ticks": ""
            },
            "colorscale": [
             [
              0,
              "#0d0887"
             ],
             [
              0.1111111111111111,
              "#46039f"
             ],
             [
              0.2222222222222222,
              "#7201a8"
             ],
             [
              0.3333333333333333,
              "#9c179e"
             ],
             [
              0.4444444444444444,
              "#bd3786"
             ],
             [
              0.5555555555555556,
              "#d8576b"
             ],
             [
              0.6666666666666666,
              "#ed7953"
             ],
             [
              0.7777777777777778,
              "#fb9f3a"
             ],
             [
              0.8888888888888888,
              "#fdca26"
             ],
             [
              1,
              "#f0f921"
             ]
            ],
            "type": "heatmapgl"
           }
          ],
          "histogram": [
           {
            "marker": {
             "pattern": {
              "fillmode": "overlay",
              "size": 10,
              "solidity": 0.2
             }
            },
            "type": "histogram"
           }
          ],
          "histogram2d": [
           {
            "colorbar": {
             "outlinewidth": 0,
             "ticks": ""
            },
            "colorscale": [
             [
              0,
              "#0d0887"
             ],
             [
              0.1111111111111111,
              "#46039f"
             ],
             [
              0.2222222222222222,
              "#7201a8"
             ],
             [
              0.3333333333333333,
              "#9c179e"
             ],
             [
              0.4444444444444444,
              "#bd3786"
             ],
             [
              0.5555555555555556,
              "#d8576b"
             ],
             [
              0.6666666666666666,
              "#ed7953"
             ],
             [
              0.7777777777777778,
              "#fb9f3a"
             ],
             [
              0.8888888888888888,
              "#fdca26"
             ],
             [
              1,
              "#f0f921"
             ]
            ],
            "type": "histogram2d"
           }
          ],
          "histogram2dcontour": [
           {
            "colorbar": {
             "outlinewidth": 0,
             "ticks": ""
            },
            "colorscale": [
             [
              0,
              "#0d0887"
             ],
             [
              0.1111111111111111,
              "#46039f"
             ],
             [
              0.2222222222222222,
              "#7201a8"
             ],
             [
              0.3333333333333333,
              "#9c179e"
             ],
             [
              0.4444444444444444,
              "#bd3786"
             ],
             [
              0.5555555555555556,
              "#d8576b"
             ],
             [
              0.6666666666666666,
              "#ed7953"
             ],
             [
              0.7777777777777778,
              "#fb9f3a"
             ],
             [
              0.8888888888888888,
              "#fdca26"
             ],
             [
              1,
              "#f0f921"
             ]
            ],
            "type": "histogram2dcontour"
           }
          ],
          "mesh3d": [
           {
            "colorbar": {
             "outlinewidth": 0,
             "ticks": ""
            },
            "type": "mesh3d"
           }
          ],
          "parcoords": [
           {
            "line": {
             "colorbar": {
              "outlinewidth": 0,
              "ticks": ""
             }
            },
            "type": "parcoords"
           }
          ],
          "pie": [
           {
            "automargin": true,
            "type": "pie"
           }
          ],
          "scatter": [
           {
            "fillpattern": {
             "fillmode": "overlay",
             "size": 10,
             "solidity": 0.2
            },
            "type": "scatter"
           }
          ],
          "scatter3d": [
           {
            "line": {
             "colorbar": {
              "outlinewidth": 0,
              "ticks": ""
             }
            },
            "marker": {
             "colorbar": {
              "outlinewidth": 0,
              "ticks": ""
             }
            },
            "type": "scatter3d"
           }
          ],
          "scattercarpet": [
           {
            "marker": {
             "colorbar": {
              "outlinewidth": 0,
              "ticks": ""
             }
            },
            "type": "scattercarpet"
           }
          ],
          "scattergeo": [
           {
            "marker": {
             "colorbar": {
              "outlinewidth": 0,
              "ticks": ""
             }
            },
            "type": "scattergeo"
           }
          ],
          "scattergl": [
           {
            "marker": {
             "colorbar": {
              "outlinewidth": 0,
              "ticks": ""
             }
            },
            "type": "scattergl"
           }
          ],
          "scattermapbox": [
           {
            "marker": {
             "colorbar": {
              "outlinewidth": 0,
              "ticks": ""
             }
            },
            "type": "scattermapbox"
           }
          ],
          "scatterpolar": [
           {
            "marker": {
             "colorbar": {
              "outlinewidth": 0,
              "ticks": ""
             }
            },
            "type": "scatterpolar"
           }
          ],
          "scatterpolargl": [
           {
            "marker": {
             "colorbar": {
              "outlinewidth": 0,
              "ticks": ""
             }
            },
            "type": "scatterpolargl"
           }
          ],
          "scatterternary": [
           {
            "marker": {
             "colorbar": {
              "outlinewidth": 0,
              "ticks": ""
             }
            },
            "type": "scatterternary"
           }
          ],
          "surface": [
           {
            "colorbar": {
             "outlinewidth": 0,
             "ticks": ""
            },
            "colorscale": [
             [
              0,
              "#0d0887"
             ],
             [
              0.1111111111111111,
              "#46039f"
             ],
             [
              0.2222222222222222,
              "#7201a8"
             ],
             [
              0.3333333333333333,
              "#9c179e"
             ],
             [
              0.4444444444444444,
              "#bd3786"
             ],
             [
              0.5555555555555556,
              "#d8576b"
             ],
             [
              0.6666666666666666,
              "#ed7953"
             ],
             [
              0.7777777777777778,
              "#fb9f3a"
             ],
             [
              0.8888888888888888,
              "#fdca26"
             ],
             [
              1,
              "#f0f921"
             ]
            ],
            "type": "surface"
           }
          ],
          "table": [
           {
            "cells": {
             "fill": {
              "color": "#EBF0F8"
             },
             "line": {
              "color": "white"
             }
            },
            "header": {
             "fill": {
              "color": "#C8D4E3"
             },
             "line": {
              "color": "white"
             }
            },
            "type": "table"
           }
          ]
         },
         "layout": {
          "annotationdefaults": {
           "arrowcolor": "#2a3f5f",
           "arrowhead": 0,
           "arrowwidth": 1
          },
          "autotypenumbers": "strict",
          "coloraxis": {
           "colorbar": {
            "outlinewidth": 0,
            "ticks": ""
           }
          },
          "colorscale": {
           "diverging": [
            [
             0,
             "#8e0152"
            ],
            [
             0.1,
             "#c51b7d"
            ],
            [
             0.2,
             "#de77ae"
            ],
            [
             0.3,
             "#f1b6da"
            ],
            [
             0.4,
             "#fde0ef"
            ],
            [
             0.5,
             "#f7f7f7"
            ],
            [
             0.6,
             "#e6f5d0"
            ],
            [
             0.7,
             "#b8e186"
            ],
            [
             0.8,
             "#7fbc41"
            ],
            [
             0.9,
             "#4d9221"
            ],
            [
             1,
             "#276419"
            ]
           ],
           "sequential": [
            [
             0,
             "#0d0887"
            ],
            [
             0.1111111111111111,
             "#46039f"
            ],
            [
             0.2222222222222222,
             "#7201a8"
            ],
            [
             0.3333333333333333,
             "#9c179e"
            ],
            [
             0.4444444444444444,
             "#bd3786"
            ],
            [
             0.5555555555555556,
             "#d8576b"
            ],
            [
             0.6666666666666666,
             "#ed7953"
            ],
            [
             0.7777777777777778,
             "#fb9f3a"
            ],
            [
             0.8888888888888888,
             "#fdca26"
            ],
            [
             1,
             "#f0f921"
            ]
           ],
           "sequentialminus": [
            [
             0,
             "#0d0887"
            ],
            [
             0.1111111111111111,
             "#46039f"
            ],
            [
             0.2222222222222222,
             "#7201a8"
            ],
            [
             0.3333333333333333,
             "#9c179e"
            ],
            [
             0.4444444444444444,
             "#bd3786"
            ],
            [
             0.5555555555555556,
             "#d8576b"
            ],
            [
             0.6666666666666666,
             "#ed7953"
            ],
            [
             0.7777777777777778,
             "#fb9f3a"
            ],
            [
             0.8888888888888888,
             "#fdca26"
            ],
            [
             1,
             "#f0f921"
            ]
           ]
          },
          "colorway": [
           "#636efa",
           "#EF553B",
           "#00cc96",
           "#ab63fa",
           "#FFA15A",
           "#19d3f3",
           "#FF6692",
           "#B6E880",
           "#FF97FF",
           "#FECB52"
          ],
          "font": {
           "color": "#2a3f5f"
          },
          "geo": {
           "bgcolor": "white",
           "lakecolor": "white",
           "landcolor": "#E5ECF6",
           "showlakes": true,
           "showland": true,
           "subunitcolor": "white"
          },
          "hoverlabel": {
           "align": "left"
          },
          "hovermode": "closest",
          "mapbox": {
           "style": "light"
          },
          "paper_bgcolor": "white",
          "plot_bgcolor": "#E5ECF6",
          "polar": {
           "angularaxis": {
            "gridcolor": "white",
            "linecolor": "white",
            "ticks": ""
           },
           "bgcolor": "#E5ECF6",
           "radialaxis": {
            "gridcolor": "white",
            "linecolor": "white",
            "ticks": ""
           }
          },
          "scene": {
           "xaxis": {
            "backgroundcolor": "#E5ECF6",
            "gridcolor": "white",
            "gridwidth": 2,
            "linecolor": "white",
            "showbackground": true,
            "ticks": "",
            "zerolinecolor": "white"
           },
           "yaxis": {
            "backgroundcolor": "#E5ECF6",
            "gridcolor": "white",
            "gridwidth": 2,
            "linecolor": "white",
            "showbackground": true,
            "ticks": "",
            "zerolinecolor": "white"
           },
           "zaxis": {
            "backgroundcolor": "#E5ECF6",
            "gridcolor": "white",
            "gridwidth": 2,
            "linecolor": "white",
            "showbackground": true,
            "ticks": "",
            "zerolinecolor": "white"
           }
          },
          "shapedefaults": {
           "line": {
            "color": "#2a3f5f"
           }
          },
          "ternary": {
           "aaxis": {
            "gridcolor": "white",
            "linecolor": "white",
            "ticks": ""
           },
           "baxis": {
            "gridcolor": "white",
            "linecolor": "white",
            "ticks": ""
           },
           "bgcolor": "#E5ECF6",
           "caxis": {
            "gridcolor": "white",
            "linecolor": "white",
            "ticks": ""
           }
          },
          "title": {
           "x": 0.05
          },
          "xaxis": {
           "automargin": true,
           "gridcolor": "white",
           "linecolor": "white",
           "ticks": "",
           "title": {
            "standoff": 15
           },
           "zerolinecolor": "white",
           "zerolinewidth": 2
          },
          "yaxis": {
           "automargin": true,
           "gridcolor": "white",
           "linecolor": "white",
           "ticks": "",
           "title": {
            "standoff": 15
           },
           "zerolinecolor": "white",
           "zerolinewidth": 2
          }
         }
        },
        "title": {
         "text": "dec_dxf Plot with Plotly"
        },
        "xaxis": {
         "title": {
          "text": "X"
         }
        },
        "yaxis": {
         "scaleanchor": "x",
         "title": {
          "text": "Y"
         }
        }
       }
      }
     },
     "metadata": {},
     "output_type": "display_data"
    }
   ],
   "source": [
    "get_plotly_graph_from_dxf('samples/dxf/circle.dxf')"
   ]
  },
  {
   "cell_type": "code",
   "execution_count": 43,
   "id": "f696db2e",
   "metadata": {},
   "outputs": [
    {
     "name": "stdout",
     "output_type": "stream",
     "text": [
      "is my debugging printing?\n",
      "CIRCLE(#10000057)\n",
      "\n",
      "circ appended\n"
     ]
    },
    {
     "data": {
      "text/plain": [
       "[[array([ 2.17560884,  2.17018946,  2.15395829,  2.12699622,  2.08943756,\n",
       "          2.04146943,  1.98333079,  1.91531131,  1.83774983,  1.75103279,\n",
       "          1.65559218,  1.5519035 ,  1.44048331,  1.32188671,  1.19670453,\n",
       "          1.06556043,  0.92910777,  0.78802633,  0.64301899,  0.49480816,\n",
       "          0.34413222,  0.19174183,  0.03839619, -0.11514073, -0.26810403,\n",
       "         -0.41973165, -0.56926819, -0.71596866, -0.85910221, -0.99795576,\n",
       "         -1.13183755, -1.26008057, -1.38204594, -1.49712602, -1.6047475 ,\n",
       "         -1.7043742 , -1.7955098 , -1.87770026, -1.95053611, -2.01365449,\n",
       "         -2.06674094, -2.109531  , -2.14181147, -2.16342155, -2.17425357,\n",
       "         -2.17425357, -2.16342155, -2.14181147, -2.109531  , -2.06674094,\n",
       "         -2.01365449, -1.95053611, -1.87770026, -1.7955098 , -1.7043742 ,\n",
       "         -1.6047475 , -1.49712602, -1.38204594, -1.26008057, -1.13183755,\n",
       "         -0.99795576, -0.85910221, -0.71596866, -0.56926819, -0.41973165,\n",
       "         -0.26810403, -0.11514073,  0.03839619,  0.19174183,  0.34413222,\n",
       "          0.49480816,  0.64301899,  0.78802633,  0.92910777,  1.06556043,\n",
       "          1.19670453,  1.32188671,  1.44048331,  1.5519035 ,  1.65559218,\n",
       "          1.75103279,  1.83774983,  1.91531131,  1.98333079,  2.04146943,\n",
       "          2.08943756,  2.12699622,  2.15395829,  2.17018946,  2.17560884]),\n",
       "  array([ 0.00000000e+00,  1.53465183e-01,  3.06165810e-01,  4.57341135e-01,\n",
       "          6.06238009e-01,  7.52114636e-01,  8.94244265e-01,  1.03191881e+00,\n",
       "          1.16445240e+00,  1.29118474e+00,  1.41148446e+00,  1.52475223e+00,\n",
       "          1.63042377e+00,  1.72797262e+00,  1.81691280e+00,  1.89680120e+00,\n",
       "          1.96723984e+00,  2.02787779e+00,  2.07841296e+00,  2.11859357e+00,\n",
       "          2.14821946e+00,  2.16714303e+00,  2.17527000e+00,  2.17255988e+00,\n",
       "          2.15902618e+00,  2.13473633e+00,  2.09981132e+00,  2.05442515e+00,\n",
       "          1.99880395e+00,  1.93322480e+00,  1.85801443e+00,  1.77354752e+00,\n",
       "          1.68024488e+00,  1.57857135e+00,  1.46903346e+00,  1.35217692e+00,\n",
       "          1.22858390e+00,  1.09887013e+00,  9.63681854e-01,  8.23692560e-01,\n",
       "          6.79599671e-01,  5.32121050e-01,  3.81991430e-01,  2.29958747e-01,\n",
       "          7.67804210e-02, -7.67804210e-02, -2.29958747e-01, -3.81991430e-01,\n",
       "         -5.32121050e-01, -6.79599671e-01, -8.23692560e-01, -9.63681854e-01,\n",
       "         -1.09887013e+00, -1.22858390e+00, -1.35217692e+00, -1.46903346e+00,\n",
       "         -1.57857135e+00, -1.68024488e+00, -1.77354752e+00, -1.85801443e+00,\n",
       "         -1.93322480e+00, -1.99880395e+00, -2.05442515e+00, -2.09981132e+00,\n",
       "         -2.13473633e+00, -2.15902618e+00, -2.17255988e+00, -2.17527000e+00,\n",
       "         -2.16714303e+00, -2.14821946e+00, -2.11859357e+00, -2.07841296e+00,\n",
       "         -2.02787779e+00, -1.96723984e+00, -1.89680120e+00, -1.81691280e+00,\n",
       "         -1.72797262e+00, -1.63042377e+00, -1.52475223e+00, -1.41148446e+00,\n",
       "         -1.29118474e+00, -1.16445240e+00, -1.03191881e+00, -8.94244265e-01,\n",
       "         -7.52114636e-01, -6.06238009e-01, -4.57341135e-01, -3.06165810e-01,\n",
       "         -1.53465183e-01, -5.32870481e-16])]]"
      ]
     },
     "execution_count": 43,
     "metadata": {},
     "output_type": "execute_result"
    }
   ],
   "source": [
    "dxf_loader.load_dxf('samples/dxf/circle.dxf')"
   ]
  },
  {
   "cell_type": "code",
   "execution_count": null,
   "id": "9d5c251b",
   "metadata": {},
   "outputs": [],
   "source": []
  }
 ],
 "metadata": {
  "kernelspec": {
   "display_name": "Python 3",
   "language": "python",
   "name": "python3"
  },
  "language_info": {
   "codemirror_mode": {
    "name": "ipython",
    "version": 3
   },
   "file_extension": ".py",
   "mimetype": "text/x-python",
   "name": "python",
   "nbconvert_exporter": "python",
   "pygments_lexer": "ipython3",
   "version": "3.12.4"
  }
 },
 "nbformat": 4,
 "nbformat_minor": 5
}
